{
 "cells": [
  {
   "cell_type": "markdown",
   "id": "f9f364c7",
   "metadata": {
    "papermill": {
     "duration": 0.008658,
     "end_time": "2022-07-02T02:44:26.983177",
     "exception": false,
     "start_time": "2022-07-02T02:44:26.974519",
     "status": "completed"
    },
    "tags": []
   },
   "source": [
    "**This notebook is an exercise in the [Machine Learning Explainability](https://www.kaggle.com/learn/machine-learning-explainability) course.  You can reference the tutorial at [this link](https://www.kaggle.com/dansbecker/partial-plots).**\n",
    "\n",
    "---\n"
   ]
  },
  {
   "cell_type": "markdown",
   "id": "b7edb901",
   "metadata": {
    "papermill": {
     "duration": 0.007041,
     "end_time": "2022-07-02T02:44:26.997717",
     "exception": false,
     "start_time": "2022-07-02T02:44:26.990676",
     "status": "completed"
    },
    "tags": []
   },
   "source": [
    "## Set Up\n",
    "\n",
    "Today you will create partial dependence plots and practice building insights with data from the [Taxi Fare Prediction](https://www.kaggle.com/c/new-york-city-taxi-fare-prediction) competition.\n",
    "\n",
    "We have again provided code to do the basic loading, review and model-building. Run the cell below to set everything up:"
   ]
  },
  {
   "cell_type": "code",
   "execution_count": 1,
   "id": "719f622b",
   "metadata": {
    "execution": {
     "iopub.execute_input": "2022-07-02T02:44:27.014405Z",
     "iopub.status.busy": "2022-07-02T02:44:27.013790Z",
     "iopub.status.idle": "2022-07-02T02:44:32.418312Z",
     "shell.execute_reply": "2022-07-02T02:44:32.416522Z"
    },
    "papermill": {
     "duration": 5.416252,
     "end_time": "2022-07-02T02:44:32.421244",
     "exception": false,
     "start_time": "2022-07-02T02:44:27.004992",
     "status": "completed"
    },
    "tags": []
   },
   "outputs": [
    {
     "name": "stdout",
     "output_type": "stream",
     "text": [
      "Setup Complete\n",
      "Data sample:\n"
     ]
    },
    {
     "data": {
      "text/html": [
       "<div>\n",
       "<style scoped>\n",
       "    .dataframe tbody tr th:only-of-type {\n",
       "        vertical-align: middle;\n",
       "    }\n",
       "\n",
       "    .dataframe tbody tr th {\n",
       "        vertical-align: top;\n",
       "    }\n",
       "\n",
       "    .dataframe thead th {\n",
       "        text-align: right;\n",
       "    }\n",
       "</style>\n",
       "<table border=\"1\" class=\"dataframe\">\n",
       "  <thead>\n",
       "    <tr style=\"text-align: right;\">\n",
       "      <th></th>\n",
       "      <th>key</th>\n",
       "      <th>fare_amount</th>\n",
       "      <th>pickup_datetime</th>\n",
       "      <th>pickup_longitude</th>\n",
       "      <th>pickup_latitude</th>\n",
       "      <th>dropoff_longitude</th>\n",
       "      <th>dropoff_latitude</th>\n",
       "      <th>passenger_count</th>\n",
       "    </tr>\n",
       "  </thead>\n",
       "  <tbody>\n",
       "    <tr>\n",
       "      <th>2</th>\n",
       "      <td>2011-08-18 00:35:00.00000049</td>\n",
       "      <td>5.7</td>\n",
       "      <td>2011-08-18 00:35:00 UTC</td>\n",
       "      <td>-73.982738</td>\n",
       "      <td>40.761270</td>\n",
       "      <td>-73.991242</td>\n",
       "      <td>40.750562</td>\n",
       "      <td>2</td>\n",
       "    </tr>\n",
       "    <tr>\n",
       "      <th>3</th>\n",
       "      <td>2012-04-21 04:30:42.0000001</td>\n",
       "      <td>7.7</td>\n",
       "      <td>2012-04-21 04:30:42 UTC</td>\n",
       "      <td>-73.987130</td>\n",
       "      <td>40.733143</td>\n",
       "      <td>-73.991567</td>\n",
       "      <td>40.758092</td>\n",
       "      <td>1</td>\n",
       "    </tr>\n",
       "    <tr>\n",
       "      <th>4</th>\n",
       "      <td>2010-03-09 07:51:00.000000135</td>\n",
       "      <td>5.3</td>\n",
       "      <td>2010-03-09 07:51:00 UTC</td>\n",
       "      <td>-73.968095</td>\n",
       "      <td>40.768008</td>\n",
       "      <td>-73.956655</td>\n",
       "      <td>40.783762</td>\n",
       "      <td>1</td>\n",
       "    </tr>\n",
       "    <tr>\n",
       "      <th>6</th>\n",
       "      <td>2012-11-20 20:35:00.0000001</td>\n",
       "      <td>7.5</td>\n",
       "      <td>2012-11-20 20:35:00 UTC</td>\n",
       "      <td>-73.980002</td>\n",
       "      <td>40.751662</td>\n",
       "      <td>-73.973802</td>\n",
       "      <td>40.764842</td>\n",
       "      <td>1</td>\n",
       "    </tr>\n",
       "    <tr>\n",
       "      <th>7</th>\n",
       "      <td>2012-01-04 17:22:00.00000081</td>\n",
       "      <td>16.5</td>\n",
       "      <td>2012-01-04 17:22:00 UTC</td>\n",
       "      <td>-73.951300</td>\n",
       "      <td>40.774138</td>\n",
       "      <td>-73.990095</td>\n",
       "      <td>40.751048</td>\n",
       "      <td>1</td>\n",
       "    </tr>\n",
       "  </tbody>\n",
       "</table>\n",
       "</div>"
      ],
      "text/plain": [
       "                             key  fare_amount          pickup_datetime  \\\n",
       "2   2011-08-18 00:35:00.00000049          5.7  2011-08-18 00:35:00 UTC   \n",
       "3    2012-04-21 04:30:42.0000001          7.7  2012-04-21 04:30:42 UTC   \n",
       "4  2010-03-09 07:51:00.000000135          5.3  2010-03-09 07:51:00 UTC   \n",
       "6    2012-11-20 20:35:00.0000001          7.5  2012-11-20 20:35:00 UTC   \n",
       "7   2012-01-04 17:22:00.00000081         16.5  2012-01-04 17:22:00 UTC   \n",
       "\n",
       "   pickup_longitude  pickup_latitude  dropoff_longitude  dropoff_latitude  \\\n",
       "2        -73.982738        40.761270         -73.991242         40.750562   \n",
       "3        -73.987130        40.733143         -73.991567         40.758092   \n",
       "4        -73.968095        40.768008         -73.956655         40.783762   \n",
       "6        -73.980002        40.751662         -73.973802         40.764842   \n",
       "7        -73.951300        40.774138         -73.990095         40.751048   \n",
       "\n",
       "   passenger_count  \n",
       "2                2  \n",
       "3                1  \n",
       "4                1  \n",
       "6                1  \n",
       "7                1  "
      ]
     },
     "execution_count": 1,
     "metadata": {},
     "output_type": "execute_result"
    }
   ],
   "source": [
    "import pandas as pd\n",
    "from sklearn.ensemble import RandomForestRegressor\n",
    "from sklearn.linear_model import LinearRegression\n",
    "from sklearn.model_selection import train_test_split\n",
    "\n",
    "# Environment Set-Up for feedback system.\n",
    "from learntools.core import binder\n",
    "binder.bind(globals())\n",
    "from learntools.ml_explainability.ex3 import *\n",
    "print(\"Setup Complete\")\n",
    "\n",
    "# Data manipulation code below here\n",
    "data = pd.read_csv('../input/new-york-city-taxi-fare-prediction/train.csv', nrows=50000)\n",
    "\n",
    "# Remove data with extreme outlier coordinates or negative fares\n",
    "data = data.query('pickup_latitude > 40.7 and pickup_latitude < 40.8 and ' +\n",
    "                  'dropoff_latitude > 40.7 and dropoff_latitude < 40.8 and ' +\n",
    "                  'pickup_longitude > -74 and pickup_longitude < -73.9 and ' +\n",
    "                  'dropoff_longitude > -74 and dropoff_longitude < -73.9 and ' +\n",
    "                  'fare_amount > 0'\n",
    "                  )\n",
    "\n",
    "y = data.fare_amount\n",
    "\n",
    "base_features = ['pickup_longitude',\n",
    "                 'pickup_latitude',\n",
    "                 'dropoff_longitude',\n",
    "                 'dropoff_latitude']\n",
    "\n",
    "X = data[base_features]\n",
    "\n",
    "\n",
    "train_X, val_X, train_y, val_y = train_test_split(X, y, random_state=1)\n",
    "first_model = RandomForestRegressor(n_estimators=30, random_state=1).fit(train_X, train_y)\n",
    "print(\"Data sample:\")\n",
    "data.head()"
   ]
  },
  {
   "cell_type": "code",
   "execution_count": 2,
   "id": "2885bb08",
   "metadata": {
    "execution": {
     "iopub.execute_input": "2022-07-02T02:44:32.438667Z",
     "iopub.status.busy": "2022-07-02T02:44:32.438262Z",
     "iopub.status.idle": "2022-07-02T02:44:32.483953Z",
     "shell.execute_reply": "2022-07-02T02:44:32.482766Z"
    },
    "papermill": {
     "duration": 0.057178,
     "end_time": "2022-07-02T02:44:32.486475",
     "exception": false,
     "start_time": "2022-07-02T02:44:32.429297",
     "status": "completed"
    },
    "tags": []
   },
   "outputs": [
    {
     "data": {
      "text/html": [
       "<div>\n",
       "<style scoped>\n",
       "    .dataframe tbody tr th:only-of-type {\n",
       "        vertical-align: middle;\n",
       "    }\n",
       "\n",
       "    .dataframe tbody tr th {\n",
       "        vertical-align: top;\n",
       "    }\n",
       "\n",
       "    .dataframe thead th {\n",
       "        text-align: right;\n",
       "    }\n",
       "</style>\n",
       "<table border=\"1\" class=\"dataframe\">\n",
       "  <thead>\n",
       "    <tr style=\"text-align: right;\">\n",
       "      <th></th>\n",
       "      <th>fare_amount</th>\n",
       "      <th>pickup_longitude</th>\n",
       "      <th>pickup_latitude</th>\n",
       "      <th>dropoff_longitude</th>\n",
       "      <th>dropoff_latitude</th>\n",
       "      <th>passenger_count</th>\n",
       "    </tr>\n",
       "  </thead>\n",
       "  <tbody>\n",
       "    <tr>\n",
       "      <th>count</th>\n",
       "      <td>31289.000000</td>\n",
       "      <td>31289.000000</td>\n",
       "      <td>31289.000000</td>\n",
       "      <td>31289.000000</td>\n",
       "      <td>31289.000000</td>\n",
       "      <td>31289.000000</td>\n",
       "    </tr>\n",
       "    <tr>\n",
       "      <th>mean</th>\n",
       "      <td>8.483093</td>\n",
       "      <td>-73.976860</td>\n",
       "      <td>40.756917</td>\n",
       "      <td>-73.975342</td>\n",
       "      <td>40.757473</td>\n",
       "      <td>1.656141</td>\n",
       "    </tr>\n",
       "    <tr>\n",
       "      <th>std</th>\n",
       "      <td>4.628164</td>\n",
       "      <td>0.014635</td>\n",
       "      <td>0.018170</td>\n",
       "      <td>0.015917</td>\n",
       "      <td>0.018661</td>\n",
       "      <td>1.284899</td>\n",
       "    </tr>\n",
       "    <tr>\n",
       "      <th>min</th>\n",
       "      <td>0.010000</td>\n",
       "      <td>-73.999999</td>\n",
       "      <td>40.700013</td>\n",
       "      <td>-73.999999</td>\n",
       "      <td>40.700020</td>\n",
       "      <td>0.000000</td>\n",
       "    </tr>\n",
       "    <tr>\n",
       "      <th>25%</th>\n",
       "      <td>5.500000</td>\n",
       "      <td>-73.988039</td>\n",
       "      <td>40.744947</td>\n",
       "      <td>-73.987125</td>\n",
       "      <td>40.745922</td>\n",
       "      <td>1.000000</td>\n",
       "    </tr>\n",
       "    <tr>\n",
       "      <th>50%</th>\n",
       "      <td>7.500000</td>\n",
       "      <td>-73.979691</td>\n",
       "      <td>40.758027</td>\n",
       "      <td>-73.978547</td>\n",
       "      <td>40.758559</td>\n",
       "      <td>1.000000</td>\n",
       "    </tr>\n",
       "    <tr>\n",
       "      <th>75%</th>\n",
       "      <td>10.100000</td>\n",
       "      <td>-73.967823</td>\n",
       "      <td>40.769580</td>\n",
       "      <td>-73.966435</td>\n",
       "      <td>40.770427</td>\n",
       "      <td>2.000000</td>\n",
       "    </tr>\n",
       "    <tr>\n",
       "      <th>max</th>\n",
       "      <td>165.000000</td>\n",
       "      <td>-73.900062</td>\n",
       "      <td>40.799952</td>\n",
       "      <td>-73.900062</td>\n",
       "      <td>40.799999</td>\n",
       "      <td>6.000000</td>\n",
       "    </tr>\n",
       "  </tbody>\n",
       "</table>\n",
       "</div>"
      ],
      "text/plain": [
       "        fare_amount  pickup_longitude  pickup_latitude  dropoff_longitude  \\\n",
       "count  31289.000000      31289.000000     31289.000000       31289.000000   \n",
       "mean       8.483093        -73.976860        40.756917         -73.975342   \n",
       "std        4.628164          0.014635         0.018170           0.015917   \n",
       "min        0.010000        -73.999999        40.700013         -73.999999   \n",
       "25%        5.500000        -73.988039        40.744947         -73.987125   \n",
       "50%        7.500000        -73.979691        40.758027         -73.978547   \n",
       "75%       10.100000        -73.967823        40.769580         -73.966435   \n",
       "max      165.000000        -73.900062        40.799952         -73.900062   \n",
       "\n",
       "       dropoff_latitude  passenger_count  \n",
       "count      31289.000000     31289.000000  \n",
       "mean          40.757473         1.656141  \n",
       "std            0.018661         1.284899  \n",
       "min           40.700020         0.000000  \n",
       "25%           40.745922         1.000000  \n",
       "50%           40.758559         1.000000  \n",
       "75%           40.770427         2.000000  \n",
       "max           40.799999         6.000000  "
      ]
     },
     "execution_count": 2,
     "metadata": {},
     "output_type": "execute_result"
    }
   ],
   "source": [
    "data.describe()"
   ]
  },
  {
   "cell_type": "markdown",
   "id": "496d2a18",
   "metadata": {
    "papermill": {
     "duration": 0.00784,
     "end_time": "2022-07-02T02:44:32.502622",
     "exception": false,
     "start_time": "2022-07-02T02:44:32.494782",
     "status": "completed"
    },
    "tags": []
   },
   "source": [
    "## Question 1\n",
    "\n",
    "Here is the code to plot the partial dependence plot for pickup_longitude.  Run the following cell."
   ]
  },
  {
   "cell_type": "code",
   "execution_count": 3,
   "id": "47475a95",
   "metadata": {
    "execution": {
     "iopub.execute_input": "2022-07-02T02:44:32.521759Z",
     "iopub.status.busy": "2022-07-02T02:44:32.521048Z",
     "iopub.status.idle": "2022-07-02T02:44:33.624938Z",
     "shell.execute_reply": "2022-07-02T02:44:33.623548Z"
    },
    "papermill": {
     "duration": 1.116928,
     "end_time": "2022-07-02T02:44:33.628200",
     "exception": false,
     "start_time": "2022-07-02T02:44:32.511272",
     "status": "completed"
    },
    "tags": []
   },
   "outputs": [
    {
     "data": {
      "image/png": "[encoded data removed]",
      "text/plain": [
       "<Figure size 1080x684 with 2 Axes>"
      ]
     },
     "metadata": {
      "needs_background": "light"
     },
     "output_type": "display_data"
    }
   ],
   "source": [
    "from matplotlib import pyplot as plt\n",
    "from pdpbox import pdp, get_dataset, info_plots\n",
    "\n",
    "feat_name = 'pickup_longitude'\n",
    "pdp_dist = pdp.pdp_isolate(model=first_model, dataset=val_X, model_features=base_features, feature=feat_name)\n",
    "\n",
    "pdp.pdp_plot(pdp_dist, feat_name)\n",
    "plt.show()"
   ]
  },
  {
   "cell_type": "markdown",
   "id": "fc2fedfd",
   "metadata": {
    "papermill": {
     "duration": 0.008737,
     "end_time": "2022-07-02T02:44:33.646090",
     "exception": false,
     "start_time": "2022-07-02T02:44:33.637353",
     "status": "completed"
    },
    "tags": []
   },
   "source": [
    "Why does the partial dependence plot have this U-shape?\n",
    "\n",
    "Does your explanation suggest what shape to expect in the partial dependence plots for the other features?\n",
    "\n",
    "Create all other partial plots in a for-loop below (copying the appropriate lines from the code above)."
   ]
  },
  {
   "cell_type": "code",
   "execution_count": 4,
   "id": "3a5e9f9d",
   "metadata": {
    "execution": {
     "iopub.execute_input": "2022-07-02T02:44:33.665411Z",
     "iopub.status.busy": "2022-07-02T02:44:33.665024Z",
     "iopub.status.idle": "2022-07-02T02:44:36.050657Z",
     "shell.execute_reply": "2022-07-02T02:44:36.049545Z"
    },
    "papermill": {
     "duration": 2.398664,
     "end_time": "2022-07-02T02:44:36.053516",
     "exception": false,
     "start_time": "2022-07-02T02:44:33.654852",
     "status": "completed"
    },
    "tags": []
   },
   "outputs": [],
   "source": [
    "for feat_name in base_features:\n",
    "    pdp_dist =  pdp.pdp_isolate(model=first_model, dataset=val_X,\n",
    "                               model_features=base_features, feature=feat_name)\n",
    "    ____\n",
    "    plt.show()"
   ]
  },
  {
   "cell_type": "markdown",
   "id": "cdcef7cf",
   "metadata": {
    "papermill": {
     "duration": 0.008629,
     "end_time": "2022-07-02T02:44:36.071236",
     "exception": false,
     "start_time": "2022-07-02T02:44:36.062607",
     "status": "completed"
    },
    "tags": []
   },
   "source": [
    "Do the shapes match your expectations for what shapes they would have? Can you explain the shape now that you've seen them? \n",
    "\n",
    "Uncomment the following line to check your intuition."
   ]
  },
  {
   "cell_type": "code",
   "execution_count": 5,
   "id": "5f3a9671",
   "metadata": {
    "execution": {
     "iopub.execute_input": "2022-07-02T02:44:36.091124Z",
     "iopub.status.busy": "2022-07-02T02:44:36.090735Z",
     "iopub.status.idle": "2022-07-02T02:44:36.099765Z",
     "shell.execute_reply": "2022-07-02T02:44:36.098420Z"
    },
    "papermill": {
     "duration": 0.021923,
     "end_time": "2022-07-02T02:44:36.102309",
     "exception": false,
     "start_time": "2022-07-02T02:44:36.080386",
     "status": "completed"
    },
    "tags": []
   },
   "outputs": [
    {
     "data": {
      "application/javascript": [
       "parent.postMessage({\"jupyterEvent\": \"custom.exercise_interaction\", \"data\": {\"interactionType\": 3, \"questionType\": 4, \"questionId\": \"1_WhyThatUShape\", \"learnToolsVersion\": \"0.3.4\", \"valueTowardsCompletion\": 0.0, \"failureMessage\": \"\", \"exceptionClass\": \"\", \"trace\": \"\", \"outcomeType\": 4}}, \"*\")"
      ],
      "text/plain": [
       "<IPython.core.display.Javascript object>"
      ]
     },
     "metadata": {},
     "output_type": "display_data"
    },
    {
     "data": {
      "text/markdown": [
       "<span style=\"color:#33cc99\">Solution:</span> \n",
       "The code is\n",
       "\n",
       "    for feat_name in base_features:\n",
       "        pdp_dist = pdp.pdp_isolate(model=first_model, dataset=val_X,\n",
       "                                   model_features=base_features, feature=feat_name)\n",
       "        pdp.pdp_plot(pdp_dist, feat_name)\n",
       "        plt.show()\n",
       "\n",
       "\n",
       "We have a sense from the permutation importance results that distance is the most important determinant of taxi fare.\n",
       "\n",
       "This model didn't include distance measures (like absolute change in latitude or longitude) as features, so coordinate features (like `pickup_longitude`) capture the effect of distance.\n",
       "Being picked up near the center of the longitude values lowers predicted fares on average, because it means shorter trips (on average).\n",
       "\n",
       "For the same reason, we see the general U-shape in all our partial dependence plots.\n"
      ],
      "text/plain": [
       "Solution: \n",
       "The code is\n",
       "\n",
       "    for feat_name in base_features:\n",
       "        pdp_dist = pdp.pdp_isolate(model=first_model, dataset=val_X,\n",
       "                                   model_features=base_features, feature=feat_name)\n",
       "        pdp.pdp_plot(pdp_dist, feat_name)\n",
       "        plt.show()\n",
       "\n",
       "\n",
       "We have a sense from the permutation importance results that distance is the most important determinant of taxi fare.\n",
       "\n",
       "This model didn't include distance measures (like absolute change in latitude or longitude) as features, so coordinate features (like `pickup_longitude`) capture the effect of distance.\n",
       "Being picked up near the center of the longitude values lowers predicted fares on average, because it means shorter trips (on average).\n",
       "\n",
       "For the same reason, we see the general U-shape in all our partial dependence plots."
      ]
     },
     "metadata": {},
     "output_type": "display_data"
    }
   ],
   "source": [
    "# Check your answer (Run this code cell to receive credit!)\n",
    "q_1.solution()"
   ]
  },
  {
   "cell_type": "markdown",
   "id": "8cd5060f",
   "metadata": {
    "papermill": {
     "duration": 0.00947,
     "end_time": "2022-07-02T02:44:36.121207",
     "exception": false,
     "start_time": "2022-07-02T02:44:36.111737",
     "status": "completed"
    },
    "tags": []
   },
   "source": [
    "## Question 2\n",
    "\n",
    "Now you will run a 2D partial dependence plot.  As a reminder, here is the code from the tutorial.  \n",
    "\n",
    "```\n",
    "inter1  =  pdp.pdp_interact(model=my_model, dataset=val_X, model_features=feature_names, features=['Goal Scored', 'Distance Covered (Kms)'])\n",
    "\n",
    "pdp.pdp_interact_plot(pdp_interact_out=inter1, feature_names=['Goal Scored', 'Distance Covered (Kms)'], plot_type='contour')\n",
    "plt.show()\n",
    "```\n",
    "\n",
    "Create a 2D plot for the features `pickup_longitude` and `dropoff_longitude`.  Plot it appropriately?\n",
    "\n",
    "What do you expect it to look like?"
   ]
  },
  {
   "cell_type": "code",
   "execution_count": 6,
   "id": "17943f4d",
   "metadata": {
    "execution": {
     "iopub.execute_input": "2022-07-02T02:44:36.143162Z",
     "iopub.status.busy": "2022-07-02T02:44:36.142295Z",
     "iopub.status.idle": "2022-07-02T02:44:36.150095Z",
     "shell.execute_reply": "2022-07-02T02:44:36.148875Z"
    },
    "papermill": {
     "duration": 0.021444,
     "end_time": "2022-07-02T02:44:36.152675",
     "exception": false,
     "start_time": "2022-07-02T02:44:36.131231",
     "status": "completed"
    },
    "tags": []
   },
   "outputs": [
    {
     "data": {
      "text/markdown": [],
      "text/plain": [
       "<learntools.core.constants.PlaceholderValue at 0x7fc90a80f5d0>"
      ]
     },
     "execution_count": 6,
     "metadata": {},
     "output_type": "execute_result"
    }
   ],
   "source": [
    "# Add your code here\n",
    "____"
   ]
  },
  {
   "cell_type": "markdown",
   "id": "416c612f",
   "metadata": {
    "papermill": {
     "duration": 0.010083,
     "end_time": "2022-07-02T02:44:36.172431",
     "exception": false,
     "start_time": "2022-07-02T02:44:36.162348",
     "status": "completed"
    },
    "tags": []
   },
   "source": [
    "Uncomment the line below to see the solution and explanation for how one might reason about the plot shape."
   ]
  },
  {
   "cell_type": "code",
   "execution_count": 7,
   "id": "42e85525",
   "metadata": {
    "execution": {
     "iopub.execute_input": "2022-07-02T02:44:36.194853Z",
     "iopub.status.busy": "2022-07-02T02:44:36.193866Z",
     "iopub.status.idle": "2022-07-02T02:44:36.204148Z",
     "shell.execute_reply": "2022-07-02T02:44:36.202832Z"
    },
    "papermill": {
     "duration": 0.02447,
     "end_time": "2022-07-02T02:44:36.206593",
     "exception": false,
     "start_time": "2022-07-02T02:44:36.182123",
     "status": "completed"
    },
    "tags": []
   },
   "outputs": [
    {
     "data": {
      "application/javascript": [
       "parent.postMessage({\"jupyterEvent\": \"custom.exercise_interaction\", \"data\": {\"interactionType\": 3, \"questionType\": 4, \"questionId\": \"2_PonderPDPContour\", \"learnToolsVersion\": \"0.3.4\", \"valueTowardsCompletion\": 0.0, \"failureMessage\": \"\", \"exceptionClass\": \"\", \"trace\": \"\", \"outcomeType\": 4}}, \"*\")"
      ],
      "text/plain": [
       "<IPython.core.display.Javascript object>"
      ]
     },
     "metadata": {},
     "output_type": "display_data"
    },
    {
     "data": {
      "text/markdown": [
       "<span style=\"color:#33cc99\">Solution:</span> \n",
       "You should expect the plot to have contours running along a diagonal. We see that to some extent, though there are interesting caveats.\n",
       "\n",
       "We expect the diagonal contours because these are pairs of values where the pickup and dropoff longitudes are nearby, indicating shorter trips (controlling for other factors).\n",
       "\n",
       "As you get further from the central diagonal, we should expect prices to increase as the distances between the pickup and dropoff longitudes also increase.\n",
       "\n",
       "The surprising feature is that prices increase as you go further to the upper-right of this graph, even staying near that 45-degree line.\n",
       "\n",
       "This could be worth further investigation, though the effect of moving to the upper right of this graph is small compared to moving away from that 45-degree line.\n",
       "\n",
       "The code you need to create the desired plot is:\n",
       "\n",
       "    fnames = ['pickup_longitude', 'dropoff_longitude']\n",
       "    longitudes_partial_plot  =  pdp.pdp_interact(model=first_model, dataset=val_X,\n",
       "                                                model_features=base_features, features=fnames)\n",
       "    pdp.pdp_interact_plot(pdp_interact_out=longitudes_partial_plot,\n",
       "                          feature_names=fnames, plot_type='contour')\n",
       "    plt.show()\n"
      ],
      "text/plain": [
       "Solution: \n",
       "You should expect the plot to have contours running along a diagonal. We see that to some extent, though there are interesting caveats.\n",
       "\n",
       "We expect the diagonal contours because these are pairs of values where the pickup and dropoff longitudes are nearby, indicating shorter trips (controlling for other factors).\n",
       "\n",
       "As you get further from the central diagonal, we should expect prices to increase as the distances between the pickup and dropoff longitudes also increase.\n",
       "\n",
       "The surprising feature is that prices increase as you go further to the upper-right of this graph, even staying near that 45-degree line.\n",
       "\n",
       "This could be worth further investigation, though the effect of moving to the upper right of this graph is small compared to moving away from that 45-degree line.\n",
       "\n",
       "The code you need to create the desired plot is:\n",
       "\n",
       "    fnames = ['pickup_longitude', 'dropoff_longitude']\n",
       "    longitudes_partial_plot  =  pdp.pdp_interact(model=first_model, dataset=val_X,\n",
       "                                                model_features=base_features, features=fnames)\n",
       "    pdp.pdp_interact_plot(pdp_interact_out=longitudes_partial_plot,\n",
       "                          feature_names=fnames, plot_type='contour')\n",
       "    plt.show()"
      ]
     },
     "metadata": {},
     "output_type": "display_data"
    }
   ],
   "source": [
    "# Check your answer (Run this code cell to receive credit!)\n",
    "q_2.solution()"
   ]
  },
  {
   "cell_type": "markdown",
   "id": "2654442e",
   "metadata": {
    "papermill": {
     "duration": 0.009404,
     "end_time": "2022-07-02T02:44:36.225834",
     "exception": false,
     "start_time": "2022-07-02T02:44:36.216430",
     "status": "completed"
    },
    "tags": []
   },
   "source": [
    "## Question 3\n",
    "Consider a ride starting at longitude -73.92 and ending at longitude -74. Using the graph from the last question, estimate how much money the rider would have saved if they'd started the ride at longitude -73.98 instead?"
   ]
  },
  {
   "cell_type": "code",
   "execution_count": 8,
   "id": "771f8e82",
   "metadata": {
    "execution": {
     "iopub.execute_input": "2022-07-02T02:44:36.247540Z",
     "iopub.status.busy": "2022-07-02T02:44:36.246712Z",
     "iopub.status.idle": "2022-07-02T02:44:36.257484Z",
     "shell.execute_reply": "2022-07-02T02:44:36.256548Z"
    },
    "papermill": {
     "duration": 0.024603,
     "end_time": "2022-07-02T02:44:36.260116",
     "exception": false,
     "start_time": "2022-07-02T02:44:36.235513",
     "status": "completed"
    },
    "tags": []
   },
   "outputs": [
    {
     "data": {
      "application/javascript": [
       "parent.postMessage({\"jupyterEvent\": \"custom.exercise_interaction\", \"data\": {\"outcomeType\": 1, \"valueTowardsCompletion\": 0.14285714285714285, \"interactionType\": 1, \"questionType\": 2, \"questionId\": \"3_ReadPDPContour\", \"learnToolsVersion\": \"0.3.4\", \"failureMessage\": \"\", \"exceptionClass\": \"\", \"trace\": \"\"}}, \"*\")"
      ],
      "text/plain": [
       "<IPython.core.display.Javascript object>"
      ]
     },
     "metadata": {},
     "output_type": "display_data"
    },
    {
     "data": {
      "text/markdown": [
       "<span style=\"color:#33cc33\">Correct:</span> \n",
       "\n",
       "About \\$15. The price decreases from slightly more than \\$24 to slightly more than \\$9."
      ],
      "text/plain": [
       "Correct: \n",
       "\n",
       "About \\$15. The price decreases from slightly more than \\$24 to slightly more than \\$9."
      ]
     },
     "metadata": {},
     "output_type": "display_data"
    }
   ],
   "source": [
    "savings_from_shorter_trip = 15\n",
    "\n",
    "# Check your answer\n",
    "q_3.check()"
   ]
  },
  {
   "cell_type": "markdown",
   "id": "1319ebe2",
   "metadata": {
    "papermill": {
     "duration": 0.009923,
     "end_time": "2022-07-02T02:44:36.280549",
     "exception": false,
     "start_time": "2022-07-02T02:44:36.270626",
     "status": "completed"
    },
    "tags": []
   },
   "source": [
    "For a solution or hint, uncomment the appropriate line below."
   ]
  },
  {
   "cell_type": "code",
   "execution_count": 9,
   "id": "e6dc7793",
   "metadata": {
    "execution": {
     "iopub.execute_input": "2022-07-02T02:44:36.303757Z",
     "iopub.status.busy": "2022-07-02T02:44:36.302911Z",
     "iopub.status.idle": "2022-07-02T02:44:36.308179Z",
     "shell.execute_reply": "2022-07-02T02:44:36.307253Z"
    },
    "papermill": {
     "duration": 0.019865,
     "end_time": "2022-07-02T02:44:36.310679",
     "exception": false,
     "start_time": "2022-07-02T02:44:36.290814",
     "status": "completed"
    },
    "tags": []
   },
   "outputs": [],
   "source": [
    "# q_3.hint()\n",
    "#q_3.solution()"
   ]
  },
  {
   "cell_type": "markdown",
   "id": "ea7eabe8",
   "metadata": {
    "papermill": {
     "duration": 0.01025,
     "end_time": "2022-07-02T02:44:36.331379",
     "exception": false,
     "start_time": "2022-07-02T02:44:36.321129",
     "status": "completed"
    },
    "tags": []
   },
   "source": [
    "## Question 4\n",
    "In the PDP's you've seen so far, location features have primarily served as a proxy to capture distance traveled. In the permutation importance lessons, you added the features `abs_lon_change` and `abs_lat_change` as a more direct measure of distance.\n",
    "\n",
    "Create these features again here. You only need to fill in the top two lines.  Then run the following cell.  \n",
    "\n",
    "**After you run it, identify the most important difference between this partial dependence plot and the one you got without absolute value features. The code to generate the PDP without absolute value features is at the top of this code cell.**\n",
    "\n",
    "---"
   ]
  },
  {
   "cell_type": "code",
   "execution_count": 10,
   "id": "aec2cb17",
   "metadata": {
    "execution": {
     "iopub.execute_input": "2022-07-02T02:44:36.354660Z",
     "iopub.status.busy": "2022-07-02T02:44:36.353849Z",
     "iopub.status.idle": "2022-07-02T02:44:42.827546Z",
     "shell.execute_reply": "2022-07-02T02:44:42.826348Z"
    },
    "papermill": {
     "duration": 6.488458,
     "end_time": "2022-07-02T02:44:42.830121",
     "exception": false,
     "start_time": "2022-07-02T02:44:36.341663",
     "status": "completed"
    },
    "tags": []
   },
   "outputs": [
    {
     "data": {
      "image/png": "[encoded data removed]",
      "text/plain": [
       "<Figure size 1080x684 with 2 Axes>"
      ]
     },
     "metadata": {
      "needs_background": "light"
     },
     "output_type": "display_data"
    },
    {
     "data": {
      "image/png": "[encoded data removed]",
      "text/plain": [
       "<Figure size 1080x684 with 2 Axes>"
      ]
     },
     "metadata": {
      "needs_background": "light"
     },
     "output_type": "display_data"
    },
    {
     "data": {
      "application/javascript": [
       "parent.postMessage({\"jupyterEvent\": \"custom.exercise_interaction\", \"data\": {\"outcomeType\": 1, \"valueTowardsCompletion\": 0.14285714285714285, \"interactionType\": 1, \"questionType\": 2, \"questionId\": \"4_MakePDPWithAbsFeatures\", \"learnToolsVersion\": \"0.3.4\", \"failureMessage\": \"\", \"exceptionClass\": \"\", \"trace\": \"\"}}, \"*\")"
      ],
      "text/plain": [
       "<IPython.core.display.Javascript object>"
      ]
     },
     "metadata": {},
     "output_type": "display_data"
    },
    {
     "data": {
      "text/markdown": [
       "<span style=\"color:#33cc33\">Correct:</span> \n",
       "\n",
       "\n",
       "The biggest difference is that the partial dependence plot became much smaller. The the lowest vertical value is about $15 below the highest vertical value in the top chart, whereas this difference is only about $3 in the chart you just created. In other words, once you control for absolute distance traveled, the pickup_longitude has only a very small impact on predictions.\n",
       "\n",
       "    # create new features\n",
       "    data['abs_lon_change'] = abs(data.dropoff_longitude - data.pickup_longitude)\n",
       "    data['abs_lat_change'] = abs(data.dropoff_latitude - data.pickup_latitude)\n"
      ],
      "text/plain": [
       "Correct: \n",
       "\n",
       "\n",
       "The biggest difference is that the partial dependence plot became much smaller. The the lowest vertical value is about $15 below the highest vertical value in the top chart, whereas this difference is only about $3 in the chart you just created. In other words, once you control for absolute distance traveled, the pickup_longitude has only a very small impact on predictions.\n",
       "\n",
       "    # create new features\n",
       "    data['abs_lon_change'] = abs(data.dropoff_longitude - data.pickup_longitude)\n",
       "    data['abs_lat_change'] = abs(data.dropoff_latitude - data.pickup_latitude)"
      ]
     },
     "metadata": {},
     "output_type": "display_data"
    }
   ],
   "source": [
    "# This is the PDP for pickup_longitude without the absolute difference features. Included here to help compare it to the new PDP you create\n",
    "feat_name = 'pickup_longitude'\n",
    "pdp_dist_original = pdp.pdp_isolate(model=first_model, dataset=val_X, model_features=base_features, feature=feat_name)\n",
    "\n",
    "pdp.pdp_plot(pdp_dist_original, feat_name)\n",
    "plt.show()\n",
    "\n",
    "\n",
    "\n",
    "# create new features\n",
    "data['abs_lon_change'] = abs(data.dropoff_longitude - data.pickup_longitude)\n",
    "\n",
    "data['abs_lat_change'] = abs(data.dropoff_latitude - data.pickup_latitude)\n",
    "\n",
    "features_2  = ['pickup_longitude',\n",
    "               'pickup_latitude',\n",
    "               'dropoff_longitude',\n",
    "               'dropoff_latitude',\n",
    "               'abs_lat_change',\n",
    "               'abs_lon_change']\n",
    "\n",
    "X = data[features_2]\n",
    "new_train_X, new_val_X, new_train_y, new_val_y = train_test_split(X, y, random_state=1)\n",
    "second_model = RandomForestRegressor(n_estimators=30, random_state=1).fit(new_train_X, new_train_y)\n",
    "\n",
    "feat_name = 'pickup_longitude'\n",
    "pdp_dist = pdp.pdp_isolate(model=second_model, dataset=new_val_X, model_features=features_2, feature=feat_name)\n",
    "\n",
    "pdp.pdp_plot(pdp_dist, feat_name)\n",
    "plt.show()\n",
    "\n",
    "# Check your answer\n",
    "q_4.check()"
   ]
  },
  {
   "cell_type": "markdown",
   "id": "31cab301",
   "metadata": {
    "papermill": {
     "duration": 0.011066,
     "end_time": "2022-07-02T02:44:42.853245",
     "exception": false,
     "start_time": "2022-07-02T02:44:42.842179",
     "status": "completed"
    },
    "tags": []
   },
   "source": [
    "Uncomment the lines below to see a hint or the solution (including an explanation of the important differences between the plots)."
   ]
  },
  {
   "cell_type": "code",
   "execution_count": 11,
   "id": "72ce08ae",
   "metadata": {
    "execution": {
     "iopub.execute_input": "2022-07-02T02:44:42.878379Z",
     "iopub.status.busy": "2022-07-02T02:44:42.877721Z",
     "iopub.status.idle": "2022-07-02T02:44:42.882289Z",
     "shell.execute_reply": "2022-07-02T02:44:42.881539Z"
    },
    "papermill": {
     "duration": 0.019842,
     "end_time": "2022-07-02T02:44:42.884509",
     "exception": false,
     "start_time": "2022-07-02T02:44:42.864667",
     "status": "completed"
    },
    "tags": []
   },
   "outputs": [],
   "source": [
    "# q_4.hint()\n",
    "#q_4.solution()"
   ]
  },
  {
   "cell_type": "markdown",
   "id": "cc1e7207",
   "metadata": {
    "papermill": {
     "duration": 0.010985,
     "end_time": "2022-07-02T02:44:42.906903",
     "exception": false,
     "start_time": "2022-07-02T02:44:42.895918",
     "status": "completed"
    },
    "tags": []
   },
   "source": [
    "## Question 5\n",
    "Consider a scenario where you have only 2 predictive features, which we will call `feat_A` and `feat_B`. Both features have minimum values of -1 and maximum values of 1.  The partial dependence plot for `feat_A` increases steeply over its whole range, whereas the partial dependence plot for feature B increases at a slower rate (less steeply) over its whole range.\n",
    "\n",
    "Does this guarantee that `feat_A` will have a higher permutation importance than `feat_B`.  Why or why not?\n",
    "\n",
    "After you've thought about it, uncomment the line below for the solution."
   ]
  },
  {
   "cell_type": "code",
   "execution_count": 12,
   "id": "150da233",
   "metadata": {
    "execution": {
     "iopub.execute_input": "2022-07-02T02:44:42.931914Z",
     "iopub.status.busy": "2022-07-02T02:44:42.931216Z",
     "iopub.status.idle": "2022-07-02T02:44:42.939534Z",
     "shell.execute_reply": "2022-07-02T02:44:42.938578Z"
    },
    "papermill": {
     "duration": 0.023275,
     "end_time": "2022-07-02T02:44:42.941661",
     "exception": false,
     "start_time": "2022-07-02T02:44:42.918386",
     "status": "completed"
    },
    "tags": []
   },
   "outputs": [
    {
     "data": {
      "application/javascript": [
       "parent.postMessage({\"jupyterEvent\": \"custom.exercise_interaction\", \"data\": {\"interactionType\": 3, \"questionType\": 4, \"questionId\": \"5_DoesSteepnessImplyImportance\", \"learnToolsVersion\": \"0.3.4\", \"valueTowardsCompletion\": 0.0, \"failureMessage\": \"\", \"exceptionClass\": \"\", \"trace\": \"\", \"outcomeType\": 4}}, \"*\")"
      ],
      "text/plain": [
       "<IPython.core.display.Javascript object>"
      ]
     },
     "metadata": {},
     "output_type": "display_data"
    },
    {
     "data": {
      "text/markdown": [
       "<span style=\"color:#33cc99\">Solution:</span> No. This doesn't guarantee `feat_a` is more important. For example, `feat_a` could have a big effect in the cases where it varies, but could have a single value 99\\% of the time. In that case, permuting `feat_a` wouldn't matter much, since most values would be unchanged."
      ],
      "text/plain": [
       "Solution: No. This doesn't guarantee `feat_a` is more important. For example, `feat_a` could have a big effect in the cases where it varies, but could have a single value 99\\% of the time. In that case, permuting `feat_a` wouldn't matter much, since most values would be unchanged."
      ]
     },
     "metadata": {},
     "output_type": "display_data"
    }
   ],
   "source": [
    "# Check your answer (Run this code cell to receive credit!)\n",
    "q_5.solution()"
   ]
  },
  {
   "cell_type": "markdown",
   "id": "d8e2231a",
   "metadata": {
    "papermill": {
     "duration": 0.011694,
     "end_time": "2022-07-02T02:44:42.965208",
     "exception": false,
     "start_time": "2022-07-02T02:44:42.953514",
     "status": "completed"
    },
    "tags": []
   },
   "source": [
    "## Question 6\n",
    "The code cell below does the following:\n",
    "\n",
    "1. Creates two features, `X1` and `X2`, having random values in the range [-2, 2].\n",
    "2. Creates a target variable `y`, which is always 1.\n",
    "3. Trains a `RandomForestRegressor` model to predict `y` given `X1` and `X2`.\n",
    "4. Creates a PDP plot for `X1` and a scatter plot of `X1` vs. `y`.\n",
    "\n",
    "Do you have a prediction about what the PDP plot will look like? Run the cell to find out.\n",
    "\n",
    "Modify the initialization of `y` so that our PDP plot has a positive slope in the range [-1,1], and a negative slope everywhere else. (Note: *you should only modify the creation of `y`, leaving `X1`, `X2`, and `my_model` unchanged.*)"
   ]
  },
  {
   "cell_type": "code",
   "execution_count": 13,
   "id": "1c2d4d33",
   "metadata": {
    "execution": {
     "iopub.execute_input": "2022-07-02T02:44:42.991026Z",
     "iopub.status.busy": "2022-07-02T02:44:42.990086Z",
     "iopub.status.idle": "2022-07-02T02:44:45.296456Z",
     "shell.execute_reply": "2022-07-02T02:44:45.295257Z"
    },
    "papermill": {
     "duration": 2.322136,
     "end_time": "2022-07-02T02:44:45.298993",
     "exception": false,
     "start_time": "2022-07-02T02:44:42.976857",
     "status": "completed"
    },
    "tags": []
   },
   "outputs": [
    {
     "data": {
      "image/png": "[encoded data removed]",
      "text/plain": [
       "<Figure size 1080x684 with 2 Axes>"
      ]
     },
     "metadata": {
      "needs_background": "light"
     },
     "output_type": "display_data"
    },
    {
     "data": {
      "application/javascript": [
       "parent.postMessage({\"jupyterEvent\": \"custom.exercise_interaction\", \"data\": {\"outcomeType\": 1, \"valueTowardsCompletion\": 0.14285714285714285, \"interactionType\": 1, \"questionType\": 2, \"questionId\": \"6_DesignDatasetUShapedPdp\", \"learnToolsVersion\": \"0.3.4\", \"failureMessage\": \"\", \"exceptionClass\": \"\", \"trace\": \"\"}}, \"*\")"
      ],
      "text/plain": [
       "<IPython.core.display.Javascript object>"
      ]
     },
     "metadata": {},
     "output_type": "display_data"
    },
    {
     "data": {
      "text/markdown": [
       "<span style=\"color:#33cc33\">Correct</span>"
      ],
      "text/plain": [
       "Correct"
      ]
     },
     "metadata": {},
     "output_type": "display_data"
    }
   ],
   "source": [
    "import numpy as np\n",
    "from numpy.random import rand\n",
    "\n",
    "n_samples = 20000\n",
    "\n",
    "# Create array holding predictive feature\n",
    "X1 = 4 * rand(n_samples) - 2\n",
    "X2 = 4 * rand(n_samples) - 2\n",
    "# Create y. you should have X1 and X2 in the expression for y\n",
    "y = np.ones(n_samples)\n",
    "y = -2 * X1 * (X1<-1) + X1 - 2 * X1 * (X1>1) - X2\n",
    "# create dataframe because pdp_isolate expects a dataFrame as an argument\n",
    "my_df = pd.DataFrame({'X1': X1, 'X2': X2, 'y': y})\n",
    "predictors_df = my_df.drop(['y'], axis=1)\n",
    "\n",
    "my_model = RandomForestRegressor(n_estimators=30, random_state=1).fit(predictors_df, my_df.y)\n",
    "\n",
    "pdp_dist = pdp.pdp_isolate(model=my_model, dataset=my_df, model_features=['X1', 'X2'], feature='X1')\n",
    "\n",
    "# visualize your results\n",
    "pdp.pdp_plot(pdp_dist, 'X1')\n",
    "plt.show()\n",
    "\n",
    "# Check your answer\n",
    "q_6.check()"
   ]
  },
  {
   "cell_type": "markdown",
   "id": "1f3844ae",
   "metadata": {
    "papermill": {
     "duration": 0.012379,
     "end_time": "2022-07-02T02:44:45.324378",
     "exception": false,
     "start_time": "2022-07-02T02:44:45.311999",
     "status": "completed"
    },
    "tags": []
   },
   "source": [
    "Uncomment the lines below for a hint or solution"
   ]
  },
  {
   "cell_type": "code",
   "execution_count": 14,
   "id": "91f92ac8",
   "metadata": {
    "execution": {
     "iopub.execute_input": "2022-07-02T02:44:45.352029Z",
     "iopub.status.busy": "2022-07-02T02:44:45.351654Z",
     "iopub.status.idle": "2022-07-02T02:44:45.356196Z",
     "shell.execute_reply": "2022-07-02T02:44:45.354941Z"
    },
    "papermill": {
     "duration": 0.021666,
     "end_time": "2022-07-02T02:44:45.358701",
     "exception": false,
     "start_time": "2022-07-02T02:44:45.337035",
     "status": "completed"
    },
    "tags": []
   },
   "outputs": [],
   "source": [
    "# q_6.hint()\n",
    "#q_6.solution()"
   ]
  },
  {
   "cell_type": "markdown",
   "id": "fbf129a8",
   "metadata": {
    "papermill": {
     "duration": 0.012712,
     "end_time": "2022-07-02T02:44:45.384990",
     "exception": false,
     "start_time": "2022-07-02T02:44:45.372278",
     "status": "completed"
    },
    "tags": []
   },
   "source": [
    "## Question 7\n",
    "Create a dataset with 2 features and a target, such that the pdp of the first feature is flat, but its permutation importance is high.  We will use a RandomForest for the model.\n",
    "\n",
    "*Note: You only need to supply the lines that create the variables X1, X2 and y. The code to build the model and calculate insights is provided*."
   ]
  },
  {
   "cell_type": "code",
   "execution_count": 15,
   "id": "94c5914d",
   "metadata": {
    "execution": {
     "iopub.execute_input": "2022-07-02T02:44:45.413709Z",
     "iopub.status.busy": "2022-07-02T02:44:45.413304Z",
     "iopub.status.idle": "2022-07-02T02:45:00.280924Z",
     "shell.execute_reply": "2022-07-02T02:45:00.279748Z"
    },
    "papermill": {
     "duration": 14.885114,
     "end_time": "2022-07-02T02:45:00.283502",
     "exception": false,
     "start_time": "2022-07-02T02:44:45.398388",
     "status": "completed"
    },
    "tags": []
   },
   "outputs": [
    {
     "data": {
      "text/html": [
       "<style type='text/css'>\n",
       ".datatable table.frame { margin-bottom: 0; }\n",
       ".datatable table.frame thead { border-bottom: none; }\n",
       ".datatable table.frame tr.coltypes td {  color: #FFFFFF;  line-height: 6px;  padding: 0 0.5em;}\n",
       ".datatable .bool    { background: #DDDD99; }\n",
       ".datatable .object  { background: #565656; }\n",
       ".datatable .int     { background: #5D9E5D; }\n",
       ".datatable .float   { background: #4040CC; }\n",
       ".datatable .str     { background: #CC4040; }\n",
       ".datatable .time    { background: #40CC40; }\n",
       ".datatable .row_index {  background: var(--jp-border-color3);  border-right: 1px solid var(--jp-border-color0);  color: var(--jp-ui-font-color3);  font-size: 9px;}\n",
       ".datatable .frame tbody td { text-align: left; }\n",
       ".datatable .frame tr.coltypes .row_index {  background: var(--jp-border-color0);}\n",
       ".datatable th:nth-child(2) { padding-left: 12px; }\n",
       ".datatable .hellipsis {  color: var(--jp-cell-editor-border-color);}\n",
       ".datatable .vellipsis {  background: var(--jp-layout-color0);  color: var(--jp-cell-editor-border-color);}\n",
       ".datatable .na {  color: var(--jp-cell-editor-border-color);  font-size: 80%;}\n",
       ".datatable .sp {  opacity: 0.25;}\n",
       ".datatable .footer { font-size: 9px; }\n",
       ".datatable .frame_dimensions {  background: var(--jp-border-color3);  border-top: 1px solid var(--jp-border-color0);  color: var(--jp-ui-font-color3);  display: inline-block;  opacity: 0.6;  padding: 1px 10px 1px 5px;}\n",
       "</style>\n"
      ],
      "text/plain": [
       "<IPython.core.display.HTML object>"
      ]
     },
     "metadata": {},
     "output_type": "display_data"
    },
    {
     "data": {
      "image/png": "[encoded data removed]",
      "text/plain": [
       "<Figure size 1080x684 with 2 Axes>"
      ]
     },
     "metadata": {
      "needs_background": "light"
     },
     "output_type": "display_data"
    },
    {
     "data": {
      "application/javascript": [
       "parent.postMessage({\"jupyterEvent\": \"custom.exercise_interaction\", \"data\": {\"outcomeType\": 1, \"valueTowardsCompletion\": 0.14285714285714285, \"interactionType\": 1, \"questionType\": 2, \"questionId\": \"7_DesignFlatPDPWithHighImportance\", \"learnToolsVersion\": \"0.3.4\", \"failureMessage\": \"\", \"exceptionClass\": \"\", \"trace\": \"\"}}, \"*\")"
      ],
      "text/plain": [
       "<IPython.core.display.Javascript object>"
      ]
     },
     "metadata": {},
     "output_type": "display_data"
    },
    {
     "data": {
      "text/markdown": [
       "<span style=\"color:#33cc33\">Correct</span>"
      ],
      "text/plain": [
       "Correct"
      ]
     },
     "metadata": {},
     "output_type": "display_data"
    },
    {
     "data": {
      "text/html": [
       "\n",
       "    <style>\n",
       "    table.eli5-weights tr:hover {\n",
       "        filter: brightness(85%);\n",
       "    }\n",
       "</style>\n",
       "\n",
       "\n",
       "\n",
       "    \n",
       "\n",
       "    \n",
       "\n",
       "    \n",
       "\n",
       "    \n",
       "\n",
       "    \n",
       "\n",
       "    \n",
       "\n",
       "\n",
       "    \n",
       "\n",
       "    \n",
       "\n",
       "    \n",
       "\n",
       "    \n",
       "\n",
       "    \n",
       "\n",
       "    \n",
       "\n",
       "\n",
       "    \n",
       "\n",
       "    \n",
       "\n",
       "    \n",
       "\n",
       "    \n",
       "\n",
       "    \n",
       "        <table class=\"eli5-weights eli5-feature-importances\" style=\"border-collapse: collapse; border: none; margin-top: 0em; table-layout: auto;\">\n",
       "    <thead>\n",
       "    <tr style=\"border: none;\">\n",
       "        <th style=\"padding: 0 1em 0 0.5em; text-align: right; border: none;\">Weight</th>\n",
       "        <th style=\"padding: 0 0.5em 0 0.5em; text-align: left; border: none;\">Feature</th>\n",
       "    </tr>\n",
       "    </thead>\n",
       "    <tbody>\n",
       "    \n",
       "        <tr style=\"background-color: hsl(120, 100.00%, 80.00%); border: none;\">\n",
       "            <td style=\"padding: 0 1em 0 0.5em; text-align: right; border: none;\">\n",
       "                2.0011\n",
       "                \n",
       "                    &plusmn; 0.0269\n",
       "                \n",
       "            </td>\n",
       "            <td style=\"padding: 0 0.5em 0 0.5em; text-align: left; border: none;\">\n",
       "                X2\n",
       "            </td>\n",
       "        </tr>\n",
       "    \n",
       "        <tr style=\"background-color: hsl(120, 100.00%, 80.05%); border: none;\">\n",
       "            <td style=\"padding: 0 1em 0 0.5em; text-align: right; border: none;\">\n",
       "                1.9946\n",
       "                \n",
       "                    &plusmn; 0.0365\n",
       "                \n",
       "            </td>\n",
       "            <td style=\"padding: 0 0.5em 0 0.5em; text-align: left; border: none;\">\n",
       "                X1\n",
       "            </td>\n",
       "        </tr>\n",
       "    \n",
       "    \n",
       "    </tbody>\n",
       "</table>\n",
       "    \n",
       "\n",
       "    \n",
       "\n",
       "\n",
       "    \n",
       "\n",
       "    \n",
       "\n",
       "    \n",
       "\n",
       "    \n",
       "\n",
       "    \n",
       "\n",
       "    \n",
       "\n",
       "\n",
       "\n"
      ],
      "text/plain": [
       "<IPython.core.display.HTML object>"
      ]
     },
     "execution_count": 15,
     "metadata": {},
     "output_type": "execute_result"
    }
   ],
   "source": [
    "import eli5\n",
    "from eli5.sklearn import PermutationImportance\n",
    "\n",
    "n_samples = 20000\n",
    "\n",
    "# Create array holding predictive feature\n",
    "X1 =4 * rand(n_samples) - 2\n",
    "X2 = 4 * rand(n_samples) - 2\n",
    "# Create y. you should have X1 and X2 in the expression for y\n",
    "y = X1 * X2\n",
    "\n",
    "\n",
    "# create dataframe because pdp_isolate expects a dataFrame as an argument\n",
    "my_df = pd.DataFrame({'X1': X1, 'X2': X2, 'y': y})\n",
    "predictors_df = my_df.drop(['y'], axis=1)\n",
    "\n",
    "my_model = RandomForestRegressor(n_estimators=30, random_state=1).fit(predictors_df, my_df.y)\n",
    "\n",
    "\n",
    "pdp_dist = pdp.pdp_isolate(model=my_model, dataset=my_df, model_features=['X1', 'X2'], feature='X1')\n",
    "pdp.pdp_plot(pdp_dist, 'X1')\n",
    "plt.show()\n",
    "\n",
    "perm = PermutationImportance(my_model).fit(predictors_df, my_df.y)\n",
    "\n",
    "# Check your answer\n",
    "q_7.check()\n",
    "\n",
    "# show the weights for the permutation importance you just calculated\n",
    "eli5.show_weights(perm, feature_names = ['X1', 'X2'])"
   ]
  },
  {
   "cell_type": "code",
   "execution_count": 16,
   "id": "b410bc12",
   "metadata": {
    "execution": {
     "iopub.execute_input": "2022-07-02T02:45:00.319674Z",
     "iopub.status.busy": "2022-07-02T02:45:00.317535Z",
     "iopub.status.idle": "2022-07-02T02:45:00.324321Z",
     "shell.execute_reply": "2022-07-02T02:45:00.323369Z"
    },
    "papermill": {
     "duration": 0.028473,
     "end_time": "2022-07-02T02:45:00.327053",
     "exception": false,
     "start_time": "2022-07-02T02:45:00.298580",
     "status": "completed"
    },
    "tags": []
   },
   "outputs": [],
   "source": [
    "# Uncomment the following lines for the hint or solution\n",
    "# q_7.hint()\n",
    "#q_7.solution()"
   ]
  },
  {
   "cell_type": "markdown",
   "id": "166a0cb8",
   "metadata": {
    "papermill": {
     "duration": 0.014306,
     "end_time": "2022-07-02T02:45:00.356146",
     "exception": false,
     "start_time": "2022-07-02T02:45:00.341840",
     "status": "completed"
    },
    "tags": []
   },
   "source": [
    "## Keep Going\n",
    "\n",
    "Partial dependence plots can be really interesting. We have a [discussion thread](https://www.kaggle.com/learn-forum/65782) to talk about what real-world topics or questions you'd be curious to see addressed with partial dependence plots. \n",
    "\n",
    "Next, learn how **[SHAP values](https://www.kaggle.com/dansbecker/shap-values)** help you understand the logic for each individual prediction.\n"
   ]
  },
  {
   "cell_type": "markdown",
   "id": "1bcd8e6a",
   "metadata": {
    "papermill": {
     "duration": 0.013987,
     "end_time": "2022-07-02T02:45:00.385066",
     "exception": false,
     "start_time": "2022-07-02T02:45:00.371079",
     "status": "completed"
    },
    "tags": []
   },
   "source": [
    "---\n",
    "\n",
    "\n",
    "\n",
    "\n",
    "*Have questions or comments? Visit the [course discussion forum](https://www.kaggle.com/learn/machine-learning-explainability/discussion) to chat with other learners.*"
   ]
  }
 ],
 "metadata": {
  "kernelspec": {
   "display_name": "Python 3",
   "language": "python",
   "name": "python3"
  },
  "language_info": {
   "codemirror_mode": {
    "name": "ipython",
    "version": 3
   },
   "file_extension": ".py",
   "mimetype": "text/x-python",
   "name": "python",
   "nbconvert_exporter": "python",
   "pygments_lexer": "ipython3",
   "version": "3.7.12"
  },
  "papermill": {
   "default_parameters": {},
   "duration": 46.623393,
   "end_time": "2022-07-02T02:45:03.852747",
   "environment_variables": {},
   "exception": null,
   "input_path": "__notebook__.ipynb",
   "output_path": "__notebook__.ipynb",
   "parameters": {},
   "start_time": "2022-07-02T02:44:17.229354",
   "version": "2.3.4"
  }
 },
 "nbformat": 4,
 "nbformat_minor": 5
}
