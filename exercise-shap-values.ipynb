{
 "cells": [
  {
   "cell_type": "markdown",
   "id": "f2e5d9cf",
   "metadata": {
    "papermill": {
     "duration": 0.009138,
     "end_time": "2022-07-02T02:44:37.695445",
     "exception": false,
     "start_time": "2022-07-02T02:44:37.686307",
     "status": "completed"
    },
    "tags": []
   },
   "source": [
    "**This notebook is an exercise in the [Machine Learning Explainability](https://www.kaggle.com/learn/machine-learning-explainability) course.  You can reference the tutorial at [this link](https://www.kaggle.com/dansbecker/shap-values).**\n",
    "\n",
    "---\n"
   ]
  },
  {
   "cell_type": "markdown",
   "id": "837ebfc3",
   "metadata": {
    "papermill": {
     "duration": 0.008306,
     "end_time": "2022-07-02T02:44:37.712039",
     "exception": false,
     "start_time": "2022-07-02T02:44:37.703733",
     "status": "completed"
    },
    "tags": []
   },
   "source": [
    "## Set Up\n",
    "\n",
    "At this point, you have enough tools to put together compelling solutions to real-world problems. You will ned to pick the right techniques for each part of the following data science scenario. Along the way, you'll use SHAP values along with your other insights tools.\n",
    "\n",
    "**The questions below give you feedback on your work by using some checking code. Run the following cell to set up our feedback system.**"
   ]
  },
  {
   "cell_type": "code",
   "execution_count": 1,
   "id": "7718af98",
   "metadata": {
    "execution": {
     "iopub.execute_input": "2022-07-02T02:44:37.731176Z",
     "iopub.status.busy": "2022-07-02T02:44:37.730394Z",
     "iopub.status.idle": "2022-07-02T02:44:37.784051Z",
     "shell.execute_reply": "2022-07-02T02:44:37.782867Z"
    },
    "papermill": {
     "duration": 0.066125,
     "end_time": "2022-07-02T02:44:37.786704",
     "exception": false,
     "start_time": "2022-07-02T02:44:37.720579",
     "status": "completed"
    },
    "tags": []
   },
   "outputs": [
    {
     "name": "stdout",
     "output_type": "stream",
     "text": [
      "Setup Complete\n"
     ]
    }
   ],
   "source": [
    "from learntools.ml_explainability.ex4 import *\n",
    "print(\"Setup Complete\")"
   ]
  },
  {
   "cell_type": "markdown",
   "id": "3d767c1a",
   "metadata": {
    "papermill": {
     "duration": 0.008316,
     "end_time": "2022-07-02T02:44:37.803271",
     "exception": false,
     "start_time": "2022-07-02T02:44:37.794955",
     "status": "completed"
    },
    "tags": []
   },
   "source": [
    "## The Scenario\n",
    "A hospital has struggled with \"readmissions,\" where they release a patient before the patient has recovered enough, and the patient returns with health complications. \n",
    "\n",
    "The hospital wants your help identifying patients at highest risk of being readmitted. Doctors (rather than your model) will make the final decision about when to release each patient; but they hope your model will highlight issues the doctors should consider when releasing a patient.\n",
    "\n",
    "The hospital has given you relevant patient medical information.  Here is a list of columns in the data:\n"
   ]
  },
  {
   "cell_type": "code",
   "execution_count": 2,
   "id": "9deb4262",
   "metadata": {
    "execution": {
     "iopub.execute_input": "2022-07-02T02:44:37.822099Z",
     "iopub.status.busy": "2022-07-02T02:44:37.821649Z",
     "iopub.status.idle": "2022-07-02T02:44:38.126162Z",
     "shell.execute_reply": "2022-07-02T02:44:38.124929Z"
    },
    "papermill": {
     "duration": 0.317004,
     "end_time": "2022-07-02T02:44:38.129043",
     "exception": false,
     "start_time": "2022-07-02T02:44:37.812039",
     "status": "completed"
    },
    "tags": []
   },
   "outputs": [
    {
     "data": {
      "text/plain": [
       "Index(['time_in_hospital', 'num_lab_procedures', 'num_procedures',\n",
       "       'num_medications', 'number_outpatient', 'number_emergency',\n",
       "       'number_inpatient', 'number_diagnoses', 'race_Caucasian',\n",
       "       'race_AfricanAmerican', 'gender_Female', 'age_[70-80)', 'age_[60-70)',\n",
       "       'age_[50-60)', 'age_[80-90)', 'age_[40-50)', 'payer_code_?',\n",
       "       'payer_code_MC', 'payer_code_HM', 'payer_code_SP', 'payer_code_BC',\n",
       "       'medical_specialty_?', 'medical_specialty_InternalMedicine',\n",
       "       'medical_specialty_Emergency/Trauma',\n",
       "       'medical_specialty_Family/GeneralPractice',\n",
       "       'medical_specialty_Cardiology', 'diag_1_428', 'diag_1_414',\n",
       "       'diag_1_786', 'diag_2_276', 'diag_2_428', 'diag_2_250', 'diag_2_427',\n",
       "       'diag_3_250', 'diag_3_401', 'diag_3_276', 'diag_3_428',\n",
       "       'max_glu_serum_None', 'A1Cresult_None', 'metformin_No',\n",
       "       'repaglinide_No', 'nateglinide_No', 'chlorpropamide_No',\n",
       "       'glimepiride_No', 'acetohexamide_No', 'glipizide_No', 'glyburide_No',\n",
       "       'tolbutamide_No', 'pioglitazone_No', 'rosiglitazone_No', 'acarbose_No',\n",
       "       'miglitol_No', 'troglitazone_No', 'tolazamide_No', 'examide_No',\n",
       "       'citoglipton_No', 'insulin_No', 'glyburide-metformin_No',\n",
       "       'glipizide-metformin_No', 'glimepiride-pioglitazone_No',\n",
       "       'metformin-rosiglitazone_No', 'metformin-pioglitazone_No', 'change_No',\n",
       "       'diabetesMed_Yes', 'readmitted'],\n",
       "      dtype='object')"
      ]
     },
     "execution_count": 2,
     "metadata": {},
     "output_type": "execute_result"
    }
   ],
   "source": [
    "import pandas as pd\n",
    "data = pd.read_csv('../input/hospital-readmissions/train.csv')\n",
    "data.columns"
   ]
  },
  {
   "cell_type": "markdown",
   "id": "18c769a9",
   "metadata": {
    "papermill": {
     "duration": 0.008357,
     "end_time": "2022-07-02T02:44:38.145912",
     "exception": false,
     "start_time": "2022-07-02T02:44:38.137555",
     "status": "completed"
    },
    "tags": []
   },
   "source": [
    "Here are some quick hints at interpreting the field names:\n",
    "\n",
    "- Your prediction target is `readmitted`\n",
    "- Columns with the word `diag` indicate the diagnostic code of the illness or illnesses the patient was admitted with. For example, `diag_1_428` means the doctor said their first illness diagnosis is number \"428\".  What illness does 428 correspond to? You could look it up in a codebook, but without more medical background it wouldn't mean anything to you anyway.\n",
    "- A column names like `glimepiride_No` mean the patient did not have the medicine `glimepiride`. If this feature had a value of False, then the patient did take the drug `glimepiride`\n",
    "- Features whose names begin with `medical_specialty` describe the specialty of the doctor seeing the patient. The values in these fields are all `True` or `False`.\n"
   ]
  },
  {
   "cell_type": "markdown",
   "id": "1c118439",
   "metadata": {
    "papermill": {
     "duration": 0.00829,
     "end_time": "2022-07-02T02:44:38.162578",
     "exception": false,
     "start_time": "2022-07-02T02:44:38.154288",
     "status": "completed"
    },
    "tags": []
   },
   "source": [
    "## Your Code Library\n",
    "As you write code to work through this scenario, these code snippets from previous tutorials may be useful. You'll still need to modify them, but we've copied them here to save you from having to look them up.\n",
    "\n",
    "**Calculate and show permutation importance:**\n",
    "```\n",
    "import eli5\n",
    "from eli5.sklearn import PermutationImportance\n",
    "\n",
    "perm = PermutationImportance(my_model, random_state=1).fit(val_X, val_y)\n",
    "eli5.show_weights(perm, feature_names = val_X.columns.tolist())\n",
    "```\n",
    "\n",
    "**Calculate and show partial dependence plot:**\n",
    "```\n",
    "from matplotlib import pyplot as plt\n",
    "from pdpbox import pdp, get_dataset, info_plots\n",
    "\n",
    "# Create the data that we will plot\n",
    "pdp_goals = pdp.pdp_isolate(model=my_model, dataset=val_X, model_features=feature_names, feature='Goal Scored')\n",
    "\n",
    "# plot it\n",
    "pdp.pdp_plot(pdp_goals, 'Goal Scored')\n",
    "plt.show()\n",
    "```\n",
    "\n",
    "**Calculate and show Shap Values for One Prediction:**\n",
    "```\n",
    "import shap  # package used to calculate Shap values\n",
    "\n",
    "data_for_prediction = val_X.iloc[0,:]  # use 1 row of data here. Could use multiple rows if desired\n",
    "\n",
    "# Create object that can calculate shap values\n",
    "explainer = shap.TreeExplainer(my_model)\n",
    "shap_values = explainer.shap_values(data_for_prediction)\n",
    "shap.initjs()\n",
    "shap.force_plot(explainer.expected_value[0], shap_values[0], data_for_prediction)\n",
    "```\n",
    "\n",
    "## Step 1\n",
    "You have built a simple model, but the doctors say they don't know how to evaluate a model, and they'd like you to show them some evidence the model is doing something in line with their medical intuition. Create any graphics or tables that will show them a quick overview of what the model is doing?\n",
    "\n",
    "They are very busy. So they want you to condense your model overview into just 1 or 2 graphics, rather than a long string of graphics.\n",
    "\n",
    "We'll start after the point where you've built a basic model. Just run the following cell to build the model called `my_model`."
   ]
  },
  {
   "cell_type": "code",
   "execution_count": 3,
   "id": "35f935b7",
   "metadata": {
    "execution": {
     "iopub.execute_input": "2022-07-02T02:44:38.180924Z",
     "iopub.status.busy": "2022-07-02T02:44:38.180472Z",
     "iopub.status.idle": "2022-07-02T02:44:40.916215Z",
     "shell.execute_reply": "2022-07-02T02:44:40.914735Z"
    },
    "papermill": {
     "duration": 2.748736,
     "end_time": "2022-07-02T02:44:40.919850",
     "exception": false,
     "start_time": "2022-07-02T02:44:38.171114",
     "status": "completed"
    },
    "tags": []
   },
   "outputs": [],
   "source": [
    "import pandas as pd\n",
    "from sklearn.ensemble import RandomForestClassifier\n",
    "from sklearn.model_selection import train_test_split\n",
    "\n",
    "data = pd.read_csv('../input/hospital-readmissions/train.csv')\n",
    "\n",
    "y = data.readmitted\n",
    "\n",
    "base_features = [c for c in data.columns if c != \"readmitted\"]\n",
    "\n",
    "X = data[base_features]\n",
    "\n",
    "train_X, val_X, train_y, val_y = train_test_split(X, y, random_state=1)\n",
    "my_model = RandomForestClassifier(n_estimators=30, random_state=1).fit(train_X, train_y)"
   ]
  },
  {
   "cell_type": "markdown",
   "id": "bb457e92",
   "metadata": {
    "papermill": {
     "duration": 0.00789,
     "end_time": "2022-07-02T02:44:40.936093",
     "exception": false,
     "start_time": "2022-07-02T02:44:40.928203",
     "status": "completed"
    },
    "tags": []
   },
   "source": [
    "Now use the following cell to create the materials for the doctors."
   ]
  },
  {
   "cell_type": "code",
   "execution_count": 4,
   "id": "0d43565f",
   "metadata": {
    "execution": {
     "iopub.execute_input": "2022-07-02T02:44:40.955577Z",
     "iopub.status.busy": "2022-07-02T02:44:40.955172Z",
     "iopub.status.idle": "2022-07-02T02:44:40.963662Z",
     "shell.execute_reply": "2022-07-02T02:44:40.962637Z"
    },
    "papermill": {
     "duration": 0.020784,
     "end_time": "2022-07-02T02:44:40.966011",
     "exception": false,
     "start_time": "2022-07-02T02:44:40.945227",
     "status": "completed"
    },
    "tags": []
   },
   "outputs": [
    {
     "data": {
      "text/markdown": [],
      "text/plain": [
       "<learntools.core.constants.PlaceholderValue at 0x7fb97256b410>"
      ]
     },
     "execution_count": 4,
     "metadata": {},
     "output_type": "execute_result"
    }
   ],
   "source": [
    "# Your code here\n",
    "____"
   ]
  },
  {
   "cell_type": "markdown",
   "id": "40782465",
   "metadata": {
    "papermill": {
     "duration": 0.009105,
     "end_time": "2022-07-02T02:44:40.983569",
     "exception": false,
     "start_time": "2022-07-02T02:44:40.974464",
     "status": "completed"
    },
    "tags": []
   },
   "source": [
    "For our idea of what to show, run the cell below.  "
   ]
  },
  {
   "cell_type": "code",
   "execution_count": 5,
   "id": "18d04f77",
   "metadata": {
    "execution": {
     "iopub.execute_input": "2022-07-02T02:44:41.002536Z",
     "iopub.status.busy": "2022-07-02T02:44:41.001722Z",
     "iopub.status.idle": "2022-07-02T02:44:41.010988Z",
     "shell.execute_reply": "2022-07-02T02:44:41.009789Z"
    },
    "papermill": {
     "duration": 0.021685,
     "end_time": "2022-07-02T02:44:41.013592",
     "exception": false,
     "start_time": "2022-07-02T02:44:40.991907",
     "status": "completed"
    },
    "tags": []
   },
   "outputs": [
    {
     "data": {
      "application/javascript": [
       "parent.postMessage({\"jupyterEvent\": \"custom.exercise_interaction\", \"data\": {\"interactionType\": 3, \"questionType\": 4, \"questionId\": \"1_SummarizeModel\", \"learnToolsVersion\": \"0.3.4\", \"valueTowardsCompletion\": 0.0, \"failureMessage\": \"\", \"exceptionClass\": \"\", \"trace\": \"\", \"outcomeType\": 4}}, \"*\")"
      ],
      "text/plain": [
       "<IPython.core.display.Javascript object>"
      ]
     },
     "metadata": {},
     "output_type": "display_data"
    },
    {
     "data": {
      "text/markdown": [
       "<span style=\"color:#33cc99\">Solution:</span> \n",
       "```python\n",
       "\n",
       "# Use permutation importance as a succinct model summary\n",
       "# A measure of model performance on validation data would be useful here too\n",
       "\n",
       "import eli5\n",
       "from eli5.sklearn import PermutationImportance\n",
       "\n",
       "perm = PermutationImportance(my_model, random_state=1).fit(val_X, val_y)\n",
       "eli5.show_weights(perm, feature_names = val_X.columns.tolist())\n",
       "\n",
       "```"
      ],
      "text/plain": [
       "Solution: \n",
       "```python\n",
       "\n",
       "# Use permutation importance as a succinct model summary\n",
       "# A measure of model performance on validation data would be useful here too\n",
       "\n",
       "import eli5\n",
       "from eli5.sklearn import PermutationImportance\n",
       "\n",
       "perm = PermutationImportance(my_model, random_state=1).fit(val_X, val_y)\n",
       "eli5.show_weights(perm, feature_names = val_X.columns.tolist())\n",
       "\n",
       "```"
      ]
     },
     "metadata": {},
     "output_type": "display_data"
    }
   ],
   "source": [
    "# Run this code cell to receive credit!\n",
    "q_1.solution()"
   ]
  },
  {
   "cell_type": "markdown",
   "id": "11f20e4c",
   "metadata": {
    "papermill": {
     "duration": 0.00871,
     "end_time": "2022-07-02T02:44:41.031631",
     "exception": false,
     "start_time": "2022-07-02T02:44:41.022921",
     "status": "completed"
    },
    "tags": []
   },
   "source": [
    "If you'd like to discuss your approach or see what others have done, we have a discussion forum [here](https://www.kaggle.com/learn-forum/66267#latest-390149).\n",
    "\n"
   ]
  },
  {
   "cell_type": "markdown",
   "id": "ba687e3e",
   "metadata": {
    "papermill": {
     "duration": 0.008502,
     "end_time": "2022-07-02T02:44:41.049146",
     "exception": false,
     "start_time": "2022-07-02T02:44:41.040644",
     "status": "completed"
    },
    "tags": []
   },
   "source": [
    "## Step 2\n",
    "\n",
    "It appears `number_inpatient` is a really important feature. The doctors would like to know more about that. Create a graph for them that shows how `num_inpatient` affects the model's predictions."
   ]
  },
  {
   "cell_type": "code",
   "execution_count": 6,
   "id": "f989d3b2",
   "metadata": {
    "execution": {
     "iopub.execute_input": "2022-07-02T02:44:41.068358Z",
     "iopub.status.busy": "2022-07-02T02:44:41.067917Z",
     "iopub.status.idle": "2022-07-02T02:44:41.075171Z",
     "shell.execute_reply": "2022-07-02T02:44:41.073826Z"
    },
    "papermill": {
     "duration": 0.019904,
     "end_time": "2022-07-02T02:44:41.077756",
     "exception": false,
     "start_time": "2022-07-02T02:44:41.057852",
     "status": "completed"
    },
    "tags": []
   },
   "outputs": [
    {
     "data": {
      "text/markdown": [],
      "text/plain": [
       "<learntools.core.constants.PlaceholderValue at 0x7fb97256b410>"
      ]
     },
     "execution_count": 6,
     "metadata": {},
     "output_type": "execute_result"
    }
   ],
   "source": [
    "# Your Code Here\n",
    "____"
   ]
  },
  {
   "cell_type": "markdown",
   "id": "c00d671b",
   "metadata": {
    "papermill": {
     "duration": 0.00849,
     "end_time": "2022-07-02T02:44:41.095244",
     "exception": false,
     "start_time": "2022-07-02T02:44:41.086754",
     "status": "completed"
    },
    "tags": []
   },
   "source": [
    "For our solution, run the line below."
   ]
  },
  {
   "cell_type": "code",
   "execution_count": 7,
   "id": "dc9f7b23",
   "metadata": {
    "execution": {
     "iopub.execute_input": "2022-07-02T02:44:41.114757Z",
     "iopub.status.busy": "2022-07-02T02:44:41.114326Z",
     "iopub.status.idle": "2022-07-02T02:44:41.124034Z",
     "shell.execute_reply": "2022-07-02T02:44:41.122469Z"
    },
    "papermill": {
     "duration": 0.022701,
     "end_time": "2022-07-02T02:44:41.126683",
     "exception": false,
     "start_time": "2022-07-02T02:44:41.103982",
     "status": "completed"
    },
    "tags": []
   },
   "outputs": [
    {
     "data": {
      "application/javascript": [
       "parent.postMessage({\"jupyterEvent\": \"custom.exercise_interaction\", \"data\": {\"interactionType\": 3, \"questionType\": 4, \"questionId\": \"2_EffectNumInpatient\", \"learnToolsVersion\": \"0.3.4\", \"valueTowardsCompletion\": 0.0, \"failureMessage\": \"\", \"exceptionClass\": \"\", \"trace\": \"\", \"outcomeType\": 4}}, \"*\")"
      ],
      "text/plain": [
       "<IPython.core.display.Javascript object>"
      ]
     },
     "metadata": {},
     "output_type": "display_data"
    },
    {
     "data": {
      "text/markdown": [
       "<span style=\"color:#33cc99\">Solution:</span> \n",
       "```python\n",
       "\n",
       "# PDP for number_inpatient feature\n",
       "\n",
       "from matplotlib import pyplot as plt\n",
       "from pdpbox import pdp, get_dataset, info_plots\n",
       "\n",
       "feature_name = 'number_inpatient'\n",
       "# Create the data that we will plot\n",
       "my_pdp = pdp.pdp_isolate(model=my_model, dataset=val_X, model_features=val_X.columns, feature=feature_name)\n",
       "\n",
       "# plot it\n",
       "pdp.pdp_plot(my_pdp, feature_name)\n",
       "plt.show()\n",
       "\n",
       "```"
      ],
      "text/plain": [
       "Solution: \n",
       "```python\n",
       "\n",
       "# PDP for number_inpatient feature\n",
       "\n",
       "from matplotlib import pyplot as plt\n",
       "from pdpbox import pdp, get_dataset, info_plots\n",
       "\n",
       "feature_name = 'number_inpatient'\n",
       "# Create the data that we will plot\n",
       "my_pdp = pdp.pdp_isolate(model=my_model, dataset=val_X, model_features=val_X.columns, feature=feature_name)\n",
       "\n",
       "# plot it\n",
       "pdp.pdp_plot(my_pdp, feature_name)\n",
       "plt.show()\n",
       "\n",
       "```"
      ]
     },
     "metadata": {},
     "output_type": "display_data"
    }
   ],
   "source": [
    "# Check your answer (Run this code cell to receive credit!)\n",
    "q_2.solution()"
   ]
  },
  {
   "cell_type": "markdown",
   "id": "500d0df1",
   "metadata": {
    "papermill": {
     "duration": 0.008737,
     "end_time": "2022-07-02T02:44:41.144609",
     "exception": false,
     "start_time": "2022-07-02T02:44:41.135872",
     "status": "completed"
    },
    "tags": []
   },
   "source": [
    "## Step 3\n",
    "\n",
    "The doctors think it's a good sign that increasing the number of inpatient procedures leads to increased predictions.  But they can't tell from this plot whether that change in the plot is big or small. They'd like you to create something similar for `time_in_hospital` to see how that compares."
   ]
  },
  {
   "cell_type": "code",
   "execution_count": 8,
   "id": "b7490a5b",
   "metadata": {
    "execution": {
     "iopub.execute_input": "2022-07-02T02:44:41.164740Z",
     "iopub.status.busy": "2022-07-02T02:44:41.164315Z",
     "iopub.status.idle": "2022-07-02T02:44:41.171273Z",
     "shell.execute_reply": "2022-07-02T02:44:41.170125Z"
    },
    "papermill": {
     "duration": 0.019801,
     "end_time": "2022-07-02T02:44:41.173606",
     "exception": false,
     "start_time": "2022-07-02T02:44:41.153805",
     "status": "completed"
    },
    "tags": []
   },
   "outputs": [
    {
     "data": {
      "text/markdown": [],
      "text/plain": [
       "<learntools.core.constants.PlaceholderValue at 0x7fb97256b410>"
      ]
     },
     "execution_count": 8,
     "metadata": {},
     "output_type": "execute_result"
    }
   ],
   "source": [
    "# Your Code Here\n",
    "____"
   ]
  },
  {
   "cell_type": "markdown",
   "id": "11374656",
   "metadata": {
    "papermill": {
     "duration": 0.008956,
     "end_time": "2022-07-02T02:44:41.191931",
     "exception": false,
     "start_time": "2022-07-02T02:44:41.182975",
     "status": "completed"
    },
    "tags": []
   },
   "source": [
    "Uncomment the relevant line below to see one solution."
   ]
  },
  {
   "cell_type": "code",
   "execution_count": 9,
   "id": "ce066f0d",
   "metadata": {
    "execution": {
     "iopub.execute_input": "2022-07-02T02:44:41.212336Z",
     "iopub.status.busy": "2022-07-02T02:44:41.211913Z",
     "iopub.status.idle": "2022-07-02T02:44:41.220111Z",
     "shell.execute_reply": "2022-07-02T02:44:41.219204Z"
    },
    "papermill": {
     "duration": 0.021352,
     "end_time": "2022-07-02T02:44:41.222486",
     "exception": false,
     "start_time": "2022-07-02T02:44:41.201134",
     "status": "completed"
    },
    "tags": []
   },
   "outputs": [
    {
     "data": {
      "application/javascript": [
       "parent.postMessage({\"jupyterEvent\": \"custom.exercise_interaction\", \"data\": {\"interactionType\": 3, \"questionType\": 4, \"questionId\": \"3_EffectTimeInHospital\", \"learnToolsVersion\": \"0.3.4\", \"valueTowardsCompletion\": 0.0, \"failureMessage\": \"\", \"exceptionClass\": \"\", \"trace\": \"\", \"outcomeType\": 4}}, \"*\")"
      ],
      "text/plain": [
       "<IPython.core.display.Javascript object>"
      ]
     },
     "metadata": {},
     "output_type": "display_data"
    },
    {
     "data": {
      "text/markdown": [
       "<span style=\"color:#33cc99\">Solution:</span> \n",
       "The results are very different. Specifically time in hospital has a much smaller effect. Code below:\n",
       "\n",
       "    from matplotlib import pyplot as plt\n",
       "    from pdpbox import pdp, get_dataset, info_plots\n",
       "\n",
       "    feature_name = 'time_in_hospital'\n",
       "    # Create the data that we will plot\n",
       "    my_pdp = pdp.pdp_isolate(model=my_model, dataset=val_X, model_features=val_X.columns, feature=feature_name)\n",
       "\n",
       "    # plot it\n",
       "    pdp.pdp_plot(my_pdp, feature_name)\n",
       "    plt.show()\n"
      ],
      "text/plain": [
       "Solution: \n",
       "The results are very different. Specifically time in hospital has a much smaller effect. Code below:\n",
       "\n",
       "    from matplotlib import pyplot as plt\n",
       "    from pdpbox import pdp, get_dataset, info_plots\n",
       "\n",
       "    feature_name = 'time_in_hospital'\n",
       "    # Create the data that we will plot\n",
       "    my_pdp = pdp.pdp_isolate(model=my_model, dataset=val_X, model_features=val_X.columns, feature=feature_name)\n",
       "\n",
       "    # plot it\n",
       "    pdp.pdp_plot(my_pdp, feature_name)\n",
       "    plt.show()"
      ]
     },
     "metadata": {},
     "output_type": "display_data"
    }
   ],
   "source": [
    "# Check your answer (Run this code cell to receive credit!)\n",
    "q_3.solution()"
   ]
  },
  {
   "cell_type": "markdown",
   "id": "7682a7fc",
   "metadata": {
    "papermill": {
     "duration": 0.009758,
     "end_time": "2022-07-02T02:44:41.242293",
     "exception": false,
     "start_time": "2022-07-02T02:44:41.232535",
     "status": "completed"
    },
    "tags": []
   },
   "source": [
    "## Step 4\n",
    "\n",
    "Woah!  It seems like `time_in_hospital` doesn't matter at all.  The difference between the lowest value on the partial dependence plot and the highest value is about 5%.\n",
    "\n",
    "If that is what your model concluded, the doctors will believe it. But it seems so low. Could  the data be wrong, or is your model doing something more complex than they expect?  \n",
    "\n",
    "They'd like you to show them the raw readmission rate for each value of `time_in_hospital` to see how it compares to the partial dependence plot.\n",
    "\n",
    "- Make that plot. \n",
    "- Are the results similar or different?"
   ]
  },
  {
   "cell_type": "code",
   "execution_count": 10,
   "id": "e5f871b5",
   "metadata": {
    "execution": {
     "iopub.execute_input": "2022-07-02T02:44:41.263904Z",
     "iopub.status.busy": "2022-07-02T02:44:41.263495Z",
     "iopub.status.idle": "2022-07-02T02:44:41.269975Z",
     "shell.execute_reply": "2022-07-02T02:44:41.268691Z"
    },
    "papermill": {
     "duration": 0.020181,
     "end_time": "2022-07-02T02:44:41.272309",
     "exception": false,
     "start_time": "2022-07-02T02:44:41.252128",
     "status": "completed"
    },
    "tags": []
   },
   "outputs": [
    {
     "data": {
      "text/markdown": [],
      "text/plain": [
       "<learntools.core.constants.PlaceholderValue at 0x7fb97256b410>"
      ]
     },
     "execution_count": 10,
     "metadata": {},
     "output_type": "execute_result"
    }
   ],
   "source": [
    "# Your Code Here\n",
    "____"
   ]
  },
  {
   "cell_type": "markdown",
   "id": "dd56c755",
   "metadata": {
    "papermill": {
     "duration": 0.009399,
     "end_time": "2022-07-02T02:44:41.291478",
     "exception": false,
     "start_time": "2022-07-02T02:44:41.282079",
     "status": "completed"
    },
    "tags": []
   },
   "source": [
    "For a hint, uncomment the line below."
   ]
  },
  {
   "cell_type": "code",
   "execution_count": 11,
   "id": "a487e19d",
   "metadata": {
    "execution": {
     "iopub.execute_input": "2022-07-02T02:44:41.313147Z",
     "iopub.status.busy": "2022-07-02T02:44:41.312614Z",
     "iopub.status.idle": "2022-07-02T02:44:41.316949Z",
     "shell.execute_reply": "2022-07-02T02:44:41.316031Z"
    },
    "papermill": {
     "duration": 0.018093,
     "end_time": "2022-07-02T02:44:41.319432",
     "exception": false,
     "start_time": "2022-07-02T02:44:41.301339",
     "status": "completed"
    },
    "tags": []
   },
   "outputs": [],
   "source": [
    "# q_4.hint()"
   ]
  },
  {
   "cell_type": "code",
   "execution_count": 12,
   "id": "91cc4e39",
   "metadata": {
    "execution": {
     "iopub.execute_input": "2022-07-02T02:44:41.346085Z",
     "iopub.status.busy": "2022-07-02T02:44:41.344913Z",
     "iopub.status.idle": "2022-07-02T02:44:41.355335Z",
     "shell.execute_reply": "2022-07-02T02:44:41.354160Z"
    },
    "papermill": {
     "duration": 0.026151,
     "end_time": "2022-07-02T02:44:41.357803",
     "exception": false,
     "start_time": "2022-07-02T02:44:41.331652",
     "status": "completed"
    },
    "tags": []
   },
   "outputs": [
    {
     "data": {
      "application/javascript": [
       "parent.postMessage({\"jupyterEvent\": \"custom.exercise_interaction\", \"data\": {\"interactionType\": 3, \"questionType\": 4, \"questionId\": \"4_RawActualsInsteadOfPDP\", \"learnToolsVersion\": \"0.3.4\", \"valueTowardsCompletion\": 0.0, \"failureMessage\": \"\", \"exceptionClass\": \"\", \"trace\": \"\", \"outcomeType\": 4}}, \"*\")"
      ],
      "text/plain": [
       "<IPython.core.display.Javascript object>"
      ]
     },
     "metadata": {},
     "output_type": "display_data"
    },
    {
     "data": {
      "text/markdown": [
       "<span style=\"color:#33cc99\">Solution:</span> \n",
       "```python\n",
       "\n",
       "# A simple pandas groupby showing the average readmission rate for each time_in_hospital.\n",
       "\n",
       "# Do concat to keep validation data separate, rather than using all original data\n",
       "all_train = pd.concat([train_X, train_y], axis=1)\n",
       "\n",
       "all_train.groupby(['time_in_hospital']).mean().readmitted.plot()\n",
       "plt.show()\n",
       "\n",
       "```"
      ],
      "text/plain": [
       "Solution: \n",
       "```python\n",
       "\n",
       "# A simple pandas groupby showing the average readmission rate for each time_in_hospital.\n",
       "\n",
       "# Do concat to keep validation data separate, rather than using all original data\n",
       "all_train = pd.concat([train_X, train_y], axis=1)\n",
       "\n",
       "all_train.groupby(['time_in_hospital']).mean().readmitted.plot()\n",
       "plt.show()\n",
       "\n",
       "```"
      ]
     },
     "metadata": {},
     "output_type": "display_data"
    }
   ],
   "source": [
    "# Check your answer (Run this code cell to receive credit!)\n",
    "q_4.solution()"
   ]
  },
  {
   "cell_type": "markdown",
   "id": "2e29b3a6",
   "metadata": {
    "papermill": {
     "duration": 0.009992,
     "end_time": "2022-07-02T02:44:41.377999",
     "exception": false,
     "start_time": "2022-07-02T02:44:41.368007",
     "status": "completed"
    },
    "tags": []
   },
   "source": [
    "## Step 5\n",
    "Now the doctors are convinced you have the right data, and the model overview looked reasonable.  It's time to turn this into a finished product they can use. Specifically, the hospital wants you to create a function `patient_risk_factors` that does the following\n",
    "- Takes a single row with patient data (of the same format you as your raw data)\n",
    "- Creates a visualization showing what features of that patient increased their risk of readmission, what features decreased it, and how much those features mattered.\n",
    "\n",
    "It's not important to show every feature with every miniscule impact on the readmission risk.  It's fine to focus on only the most important features for that patient."
   ]
  },
  {
   "cell_type": "code",
   "execution_count": 13,
   "id": "58b76c64",
   "metadata": {
    "execution": {
     "iopub.execute_input": "2022-07-02T02:44:41.401458Z",
     "iopub.status.busy": "2022-07-02T02:44:41.401014Z",
     "iopub.status.idle": "2022-07-02T02:44:41.408406Z",
     "shell.execute_reply": "2022-07-02T02:44:41.407210Z"
    },
    "papermill": {
     "duration": 0.021878,
     "end_time": "2022-07-02T02:44:41.410855",
     "exception": false,
     "start_time": "2022-07-02T02:44:41.388977",
     "status": "completed"
    },
    "tags": []
   },
   "outputs": [
    {
     "data": {
      "text/markdown": [],
      "text/plain": [
       "<learntools.core.constants.PlaceholderValue at 0x7fb97256b410>"
      ]
     },
     "execution_count": 13,
     "metadata": {},
     "output_type": "execute_result"
    }
   ],
   "source": [
    "# Your Code Here\n",
    "____"
   ]
  },
  {
   "cell_type": "markdown",
   "id": "fdae45c8",
   "metadata": {
    "papermill": {
     "duration": 0.009742,
     "end_time": "2022-07-02T02:44:41.430733",
     "exception": false,
     "start_time": "2022-07-02T02:44:41.420991",
     "status": "completed"
    },
    "tags": []
   },
   "source": [
    "For a hint, uncomment the line below."
   ]
  },
  {
   "cell_type": "code",
   "execution_count": 14,
   "id": "e3c57fb3",
   "metadata": {
    "execution": {
     "iopub.execute_input": "2022-07-02T02:44:41.453010Z",
     "iopub.status.busy": "2022-07-02T02:44:41.452586Z",
     "iopub.status.idle": "2022-07-02T02:44:41.456619Z",
     "shell.execute_reply": "2022-07-02T02:44:41.455698Z"
    },
    "papermill": {
     "duration": 0.018169,
     "end_time": "2022-07-02T02:44:41.459248",
     "exception": false,
     "start_time": "2022-07-02T02:44:41.441079",
     "status": "completed"
    },
    "tags": []
   },
   "outputs": [],
   "source": [
    "# q_5.hint()"
   ]
  },
  {
   "cell_type": "code",
   "execution_count": 15,
   "id": "b0ec2552",
   "metadata": {
    "execution": {
     "iopub.execute_input": "2022-07-02T02:44:41.481870Z",
     "iopub.status.busy": "2022-07-02T02:44:41.481412Z",
     "iopub.status.idle": "2022-07-02T02:44:41.491617Z",
     "shell.execute_reply": "2022-07-02T02:44:41.490463Z"
    },
    "papermill": {
     "duration": 0.024226,
     "end_time": "2022-07-02T02:44:41.493919",
     "exception": false,
     "start_time": "2022-07-02T02:44:41.469693",
     "status": "completed"
    },
    "tags": []
   },
   "outputs": [
    {
     "data": {
      "application/javascript": [
       "parent.postMessage({\"jupyterEvent\": \"custom.exercise_interaction\", \"data\": {\"interactionType\": 3, \"questionType\": 4, \"questionId\": \"5_UseShap\", \"learnToolsVersion\": \"0.3.4\", \"valueTowardsCompletion\": 0.0, \"failureMessage\": \"\", \"exceptionClass\": \"\", \"trace\": \"\", \"outcomeType\": 4}}, \"*\")"
      ],
      "text/plain": [
       "<IPython.core.display.Javascript object>"
      ]
     },
     "metadata": {},
     "output_type": "display_data"
    },
    {
     "data": {
      "text/markdown": [
       "<span style=\"color:#33cc99\">Solution:</span> \n",
       "```python\n",
       "\n",
       "# Use SHAP values to show the effect of each feature of a given patient\n",
       "\n",
       "import shap  # package used to calculate Shap values\n",
       "\n",
       "sample_data_for_prediction = val_X.iloc[0].astype(float)  # to test function\n",
       "\n",
       "def patient_risk_factors(model, patient_data):\n",
       "    # Create object that can calculate shap values\n",
       "    explainer = shap.TreeExplainer(model)\n",
       "    shap_values = explainer.shap_values(patient_data)\n",
       "    shap.initjs()\n",
       "    return shap.force_plot(explainer.expected_value[1], shap_values[1], patient_data)\n",
       "\n",
       "\n",
       "```"
      ],
      "text/plain": [
       "Solution: \n",
       "```python\n",
       "\n",
       "# Use SHAP values to show the effect of each feature of a given patient\n",
       "\n",
       "import shap  # package used to calculate Shap values\n",
       "\n",
       "sample_data_for_prediction = val_X.iloc[0].astype(float)  # to test function\n",
       "\n",
       "def patient_risk_factors(model, patient_data):\n",
       "    # Create object that can calculate shap values\n",
       "    explainer = shap.TreeExplainer(model)\n",
       "    shap_values = explainer.shap_values(patient_data)\n",
       "    shap.initjs()\n",
       "    return shap.force_plot(explainer.expected_value[1], shap_values[1], patient_data)\n",
       "\n",
       "\n",
       "```"
      ]
     },
     "metadata": {},
     "output_type": "display_data"
    }
   ],
   "source": [
    "# Check your answer (Run this code cell to receive credit!)\n",
    "q_5.solution()"
   ]
  },
  {
   "cell_type": "markdown",
   "id": "d2b57638",
   "metadata": {
    "papermill": {
     "duration": 0.009894,
     "end_time": "2022-07-02T02:44:41.514481",
     "exception": false,
     "start_time": "2022-07-02T02:44:41.504587",
     "status": "completed"
    },
    "tags": []
   },
   "source": [
    "## Keep Going\n",
    "You have some powerful tools to get insights about both models and individual predictions. Next you will look at **[aggregations of SHAP values](https://www.kaggle.com/dansbecker/advanced-uses-of-shap-values)** to link the model-level and prediction-level insights.\n"
   ]
  },
  {
   "cell_type": "markdown",
   "id": "2a527ab7",
   "metadata": {
    "papermill": {
     "duration": 0.010044,
     "end_time": "2022-07-02T02:44:41.534737",
     "exception": false,
     "start_time": "2022-07-02T02:44:41.524693",
     "status": "completed"
    },
    "tags": []
   },
   "source": [
    "---\n",
    "\n",
    "\n",
    "\n",
    "\n",
    "*Have questions or comments? Visit the [course discussion forum](https://www.kaggle.com/learn/machine-learning-explainability/discussion) to chat with other learners.*"
   ]
  }
 ],
 "metadata": {
  "kernelspec": {
   "display_name": "Python 3",
   "language": "python",
   "name": "python3"
  },
  "language_info": {
   "codemirror_mode": {
    "name": "ipython",
    "version": 3
   },
   "file_extension": ".py",
   "mimetype": "text/x-python",
   "name": "python",
   "nbconvert_exporter": "python",
   "pygments_lexer": "ipython3",
   "version": "3.7.12"
  },
  "papermill": {
   "default_parameters": {},
   "duration": 15.12329,
   "end_time": "2022-07-02T02:44:42.367234",
   "environment_variables": {},
   "exception": null,
   "input_path": "__notebook__.ipynb",
   "output_path": "__notebook__.ipynb",
   "parameters": {},
   "start_time": "2022-07-02T02:44:27.243944",
   "version": "2.3.4"
  }
 },
 "nbformat": 4,
 "nbformat_minor": 5
}
